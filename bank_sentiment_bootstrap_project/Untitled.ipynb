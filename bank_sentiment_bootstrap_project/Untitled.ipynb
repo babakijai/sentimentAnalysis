{
 "cells": [
  {
   "cell_type": "code",
   "execution_count": 13,
   "id": "de84cc52-d113-4921-a0ed-83d4d4d440aa",
   "metadata": {},
   "outputs": [],
   "source": [
    "#!pip install -r requirements.txt\n",
    "\n"
   ]
  },
  {
   "cell_type": "code",
   "execution_count": 71,
   "id": "805192d7-4fbb-4187-8b74-d3923f93b226",
   "metadata": {},
   "outputs": [],
   "source": [
    "#!pip install wordcloud matplotlib"
   ]
  },
  {
   "cell_type": "code",
   "execution_count": 9,
   "id": "d972b2fd-b4fb-4984-9f5d-043f42646f57",
   "metadata": {},
   "outputs": [],
   "source": [
    "#import nltk\n",
    "#nltk.download('vader_lexicon')"
   ]
  },
  {
   "cell_type": "code",
   "execution_count": 24,
   "id": "1d9c2f5c-0b7d-452a-9c4d-87b966d9e9c6",
   "metadata": {},
   "outputs": [],
   "source": [
    "#!FLASK_APP=app.py flask run"
   ]
  },
  {
   "cell_type": "code",
   "execution_count": 12,
   "id": "6ce8bb99-9d72-494d-9d13-5130451e7529",
   "metadata": {},
   "outputs": [],
   "source": [
    "#flask run --host=0.0.0.0 --port=5000"
   ]
  },
  {
   "cell_type": "code",
   "execution_count": 26,
   "id": "c69facd6-d99d-4fe7-8026-695c8a32862f",
   "metadata": {},
   "outputs": [],
   "source": [
    "#!pip install numpy==1.26.4 matplotlib wordcloud spacy --quiet\n",
    "#!python -m spacy download en_core_web_sm"
   ]
  },
  {
   "cell_type": "code",
   "execution_count": 10,
   "id": "eeb6caf9-2b2f-472d-89df-8a4031160170",
   "metadata": {},
   "outputs": [],
   "source": [
    "#!pip install transformers torch"
   ]
  },
  {
   "cell_type": "code",
   "execution_count": null,
   "id": "80051915-0141-4890-b465-419660d00f8e",
   "metadata": {},
   "outputs": [],
   "source": []
  }
 ],
 "metadata": {
  "kernelspec": {
   "display_name": "Python 3 (ipykernel)",
   "language": "python",
   "name": "python3"
  },
  "language_info": {
   "codemirror_mode": {
    "name": "ipython",
    "version": 3
   },
   "file_extension": ".py",
   "mimetype": "text/x-python",
   "name": "python",
   "nbconvert_exporter": "python",
   "pygments_lexer": "ipython3",
   "version": "3.12.7"
  }
 },
 "nbformat": 4,
 "nbformat_minor": 5
}
